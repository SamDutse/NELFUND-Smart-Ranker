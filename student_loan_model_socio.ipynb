{
 "cells": [
  {
   "cell_type": "code",
   "execution_count": null,
   "metadata": {},
   "outputs": [
    {
     "name": "stdout",
     "output_type": "stream",
     "text": [
      "              precision    recall  f1-score   support\n",
      "\n",
      "           0       0.89      0.95      0.92       107\n",
      "           1       0.94      0.87      0.91        93\n",
      "\n",
      "    accuracy                           0.92       200\n",
      "   macro avg       0.92      0.91      0.91       200\n",
      "weighted avg       0.92      0.92      0.91       200\n",
      "\n"
     ]
    }
   ],
   "source": [
    "import pandas as pd\n",
    "from sklearn.compose import ColumnTransformer\n",
    "from sklearn.pipeline import Pipeline\n",
    "from sklearn.ensemble import RandomForestClassifier\n",
    "from sklearn.preprocessing import OneHotEncoder, StandardScaler\n",
    "from sklearn.model_selection import train_test_split\n",
    "from sklearn.metrics import classification_report\n",
    "import cloudpickle\n",
    "\n",
    "# Load synthetic dataset\n",
    "data = pd.read_csv('synthetic_student_loan_data.csv')\n",
    "\n",
    "# Preprocess data\n",
    "# Transform \"Priority_Score\" into binary classes based on the median\n",
    "data['High_Priority'] = (data['Priority_Score'] > data['Priority_Score'].median()).astype(int)\n",
    "X = data.drop(columns=[\"Priority_Score\", \"High_Priority\"])\n",
    "y = data[\"High_Priority\"]\n",
    "\n",
    "# Split data into train and test sets\n",
    "X_train, X_test, y_train, y_test = train_test_split(X, y, test_size=0.2, random_state=42)\n",
    "\n",
    "# Define feature groups\n",
    "numeric_features = [\"Attendance_Rate\", \"Grades\", \"Distance_to_School\"]\n",
    "numeric_transformer = StandardScaler()\n",
    "\n",
    "categorical_features = [\n",
    "    \"Socioeconomic_Status\",\n",
    "    \"Parent_Education_Level\",\n",
    "    \"School_Resources\",\n",
    "    \"Behavioral_Issues\",\n",
    "]\n",
    "categorical_transformer = OneHotEncoder(drop=\"first\")\n",
    "\n",
    "# Preprocessor\n",
    "preprocessor = ColumnTransformer(\n",
    "    transformers=[\n",
    "        (\"num\", numeric_transformer, numeric_features),\n",
    "        (\"cat\", categorical_transformer, categorical_features),\n",
    "    ]\n",
    ")\n",
    "\n",
    "# Define pipeline\n",
    "pipeline = Pipeline(\n",
    "    steps=[\n",
    "        (\"preprocessor\", preprocessor),\n",
    "        (\"classifier\", RandomForestClassifier(random_state=42)),\n",
    "    ]\n",
    ")\n",
    "\n",
    "# Train the pipeline on training data\n",
    "pipeline.fit(X_train, y_train)\n",
    "\n",
    "# Evaluate the model\n",
    "y_pred = pipeline.predict(X_test)\n",
    "print(\"Classification Report:\\n\", classification_report(y_test, y_pred))\n",
    "\n",
    "# Save the trained pipeline using cloudpickle\n",
    "from joblib import dump\n",
    "\n",
    "# Save the pipeline\n",
    "dump(pipeline, \"student_loan_pipeline.joblib\")\n",
    "\n",
    "print(\"Model saved successfully!\")\n"
   ]
  }
 ],
 "metadata": {
  "kernelspec": {
   "display_name": "base",
   "language": "python",
   "name": "python3"
  },
  "language_info": {
   "codemirror_mode": {
    "name": "ipython",
    "version": 3
   },
   "file_extension": ".py",
   "mimetype": "text/x-python",
   "name": "python",
   "nbconvert_exporter": "python",
   "pygments_lexer": "ipython3",
   "version": "3.11.7"
  }
 },
 "nbformat": 4,
 "nbformat_minor": 2
}
